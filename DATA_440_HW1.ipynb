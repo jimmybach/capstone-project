{
  "nbformat": 4,
  "nbformat_minor": 0,
  "metadata": {
    "colab": {
      "provenance": []
    },
    "kernelspec": {
      "name": "python3",
      "display_name": "Python 3"
    },
    "language_info": {
      "name": "python"
    }
  },
  "cells": [
    {
      "cell_type": "code",
      "execution_count": null,
      "metadata": {
        "id": "n2dlNhn_1TPb"
      },
      "outputs": [],
      "source": [
        "import numpy as np\n",
        "import pandas as pd\n",
        "from sklearn.preprocessing import StandardScaler as SS\n",
        "from sklearn import linear_model\n",
        "from sklearn.ensemble import RandomForestRegressor\n",
        "from sklearn.model_selection import train_test_split as tts\n",
        "from sklearn.metrics import mean_squared_error as mse\n",
        "from scipy import linalg\n",
        "from scipy.interpolate import interp1d\n",
        "import warnings\n",
        "warnings.filterwarnings('ignore')\n",
        "# the following line(s) are necessary if you want to make SKlearn compliant functions\n",
        "from sklearn.base import BaseEstimator, RegressorMixin\n",
        "from sklearn.utils.validation import check_X_y, check_array, check_is_fitted"
      ]
    },
    {
      "cell_type": "code",
      "source": [
        "def tricubic(x):\n",
        "  return np.where(np.abs(x)>1,0,(1-np.abs(x)**3)**3)"
      ],
      "metadata": {
        "id": "I1-swYxzLSDr"
      },
      "execution_count": 86,
      "outputs": []
    },
    {
      "cell_type": "code",
      "source": [
        "def Gaussian(x):\n",
        "  return np.where(np.abs(x)>4,0,1/(np.sqrt(2*np.pi))*np.exp(-1/2*x**2))"
      ],
      "metadata": {
        "id": "DDxPhZWwiMLb"
      },
      "execution_count": null,
      "outputs": []
    },
    {
      "cell_type": "code",
      "source": [
        "def Epanechnikov(x):\n",
        "  return np.where(np.abs(x)>1,0,3/4*(1-np.abs(x)**2))"
      ],
      "metadata": {
        "id": "h_kFugUqfwdb"
      },
      "execution_count": 72,
      "outputs": []
    },
    {
      "cell_type": "code",
      "source": [
        "def Quartic(x):\n",
        "  return np.where(np.abs(x)>1,0,15/16*(1-np.abs(x)**2)**2)"
      ],
      "metadata": {
        "id": "snhseaXYLQUH"
      },
      "execution_count": 81,
      "outputs": []
    },
    {
      "cell_type": "code",
      "source": [],
      "metadata": {
        "id": "95eRic43Newv"
      },
      "execution_count": null,
      "outputs": []
    },
    {
      "cell_type": "code",
      "source": [
        "import math"
      ],
      "metadata": {
        "id": "u3IAtdhaC7TM"
      },
      "execution_count": null,
      "outputs": []
    },
    {
      "cell_type": "code",
      "source": [
        "lm = linear_model.LinearRegression()"
      ],
      "metadata": {
        "id": "E4pAK_4JN713"
      },
      "execution_count": null,
      "outputs": []
    },
    {
      "cell_type": "code",
      "source": [
        "class Lowess:\n",
        "    def __init__(self, kernel = Gaussian, tau=0.5):\n",
        "        self.kernel = kernel\n",
        "        self.tau = tau\n",
        "\n",
        "    def fit(self, x, y):\n",
        "        kernel = self.kernel\n",
        "        tau = self.tau\n",
        "        # w = weights_matrix(x,x,kernel,tau)\n",
        "        # if np.isscalar(x):\n",
        "        #   lm.fit(np.diag(w).dot(x.reshape(-1,1)),np.diag(w).dot(y.reshape(-1,1)))\n",
        "        #   yest = lm.predict([[x]])[0][0]\n",
        "        # else:\n",
        "        #   n = len(x)\n",
        "        #   yest = np.zeros(n)\n",
        "        #   #Looping through all x-points\n",
        "        #   for i in range(n):\n",
        "        #     lm.fit(np.diag(w[i,:]).dot(x.reshape(-1,1)),np.diag(w[i,:]).dot(y.reshape(-1,1)))\n",
        "        #     yest[i] = lm.predict(x[i].reshape(-1,1))\n",
        "        self.xtrain_ = x\n",
        "        self.yhat_ = y.reshape(-1,1)\n",
        "        self.yhat_ = y\n",
        "\n",
        "    def kernel_function(self,k=-1):\n",
        "        n=len(self.xtrain_)\n",
        "        if k>=0:\n",
        "          return np.array([self.kernel(math.dist(self.xtrain_[i], self.xtest_[k])/(2*self.tau)) for i in range(n)])\n",
        "        else:\n",
        "          return np.array([self.kernel(math.dist(self.xtrain_[i], self.xtest_)/(2*self.tau)) for i in range(n)])\n",
        "\n",
        "    def weights_matrix(self):\n",
        "        if np.isscalar(self.xtest_):\n",
        "          return self.kernel_function()\n",
        "        else:\n",
        "          n = len(self.xtest_)\n",
        "          return np.array([self.kernel_function(i) for i in range(n)])\n",
        "\n",
        "    def predict(self,x_new):\n",
        "        ss=SS()\n",
        "        self.xtrain_=ss.fit_transform(self.xtrain_)\n",
        "        self.xtest_=ss.transform(x_new)\n",
        "        check_is_fitted(self)\n",
        "        if self.xtrain_.ndim==2:\n",
        "          num_features = x.shape[1]\n",
        "        else:\n",
        "          num_features = 1\n",
        "\n",
        "        w = self.weights_matrix()\n",
        "\n",
        "        if np.isscalar(self.xtest_):\n",
        "          lm.fit(np.diag(w).dot(self.xtrain_.reshape(-1,1)),np.diag(w).dot(self.yhat_.reshape(-1,1)))\n",
        "          yest = lm.predict([[self.xtrain_]])[0][0]\n",
        "        else:\n",
        "          n = len(self.xtest_)\n",
        "          yest_test = np.zeros(n)\n",
        "          #Looping through all x-points\n",
        "          if num_features>1:\n",
        "            for i in range(n):\n",
        "              lm.fit(np.diag(w[i,:]).dot(self.xtrain_),np.diag(w[i,:]).dot(self.yhat_.reshape(-1,1)))\n",
        "              yest_test[i] = lm.predict(self.xtest_[i].reshape(1,-1))\n",
        "          else:\n",
        "            for i in range(n):\n",
        "              lm.fit(np.diag(w[i,:]).dot(self.xtrain_.reshape(-1,1)),np.diag(w[i,:]).dot(self.yhat_.reshape(-1,1)))\n",
        "              yest_test[i] = lm.predict(self.xtest_[i].reshape(1,-1))\n",
        "        return yest_test\n"
      ],
      "metadata": {
        "id": "7usOtKDyKmE_"
      },
      "execution_count": 69,
      "outputs": []
    },
    {
      "cell_type": "code",
      "source": [
        "cars = pd.read_csv(\"drive/My Drive/DATA 440 Capstone/data/mtcars.csv\")"
      ],
      "metadata": {
        "id": "PYbMDllSN-nS"
      },
      "execution_count": null,
      "outputs": []
    },
    {
      "cell_type": "code",
      "source": [
        "def do_Kfold(model,X,y,k=10,scaler = None, random_state = 146):\n",
        "    from sklearn.model_selection import KFold\n",
        "\n",
        "    kf = KFold(n_splits=k, random_state = random_state, shuffle=True)\n",
        "\n",
        "    train_scores = []\n",
        "    test_scores = []\n",
        "\n",
        "    for idxTrain, idxTest in kf.split(X):\n",
        "        Xtrain = X[idxTrain, :]\n",
        "        Xtest = X[idxTest, :]\n",
        "        ytrain = y[idxTrain]\n",
        "        ytest = y[idxTest]\n",
        "        if scaler != None:\n",
        "            Xtrain = scaler.fit_transform(Xtrain)\n",
        "            Xtest = scaler.transform(Xtest)\n",
        "\n",
        "        model.fit(Xtrain,ytrain)\n",
        "        test_scores.append(mse(model.predict(Xtest),ytest))\n",
        "\n",
        "    return np.mean(test_scores)"
      ],
      "metadata": {
        "id": "_YqMfz3PONhD"
      },
      "execution_count": 74,
      "outputs": []
    },
    {
      "cell_type": "code",
      "source": [
        "x=cars[['wt','hp']].values\n",
        "y=cars['mpg'].values"
      ],
      "metadata": {
        "id": "fBL1a_sGOQ9G"
      },
      "execution_count": null,
      "outputs": []
    },
    {
      "cell_type": "code",
      "source": [
        "do_Kfold(Lowess(),x,y,10)"
      ],
      "metadata": {
        "colab": {
          "base_uri": "https://localhost:8080/"
        },
        "id": "aKhR5hTyVaWm",
        "outputId": "97cfa130-ec5b-43af-ae50-fc29db77b597"
      },
      "execution_count": null,
      "outputs": [
        {
          "output_type": "execute_result",
          "data": {
            "text/plain": [
              "(32, 2)"
            ]
          },
          "metadata": {},
          "execution_count": 12
        }
      ]
    },
    {
      "cell_type": "code",
      "source": [
        "tau_range=np.linspace(0.01,10,100)\n",
        "cost=[]\n",
        "for tau in tau_range:\n",
        "  crossval=do_Kfold(Lowess(tau=tau,kernel=tricubic),x,y,10)\n",
        "  cost.append([crossval,tau])"
      ],
      "metadata": {
        "id": "ZVKkTolZCGne"
      },
      "execution_count": 87,
      "outputs": []
    },
    {
      "cell_type": "code",
      "source": [
        "min_mse=cost[0][0]\n",
        "min_tau=cost[0][1]\n",
        "for c in cost:\n",
        "  if c[0]<min_mse:\n",
        "    min_mse=c[0]\n",
        "    min_tau=c[1]\n",
        "print(min_mse,min_tau)"
      ],
      "metadata": {
        "colab": {
          "base_uri": "https://localhost:8080/"
        },
        "id": "8IPrs8UaGut2",
        "outputId": "8d2bc907-83f8-45a8-9e92-dbf07675e60d"
      },
      "execution_count": 88,
      "outputs": [
        {
          "output_type": "stream",
          "name": "stdout",
          "text": [
            "5.024128215467668 4.449999999999999\n"
          ]
        }
      ]
    },
    {
      "cell_type": "code",
      "source": [
        "xtrain, xtest, ytrain, ytest = tts(x,y,test_size=0.2,shuffle=True,random_state=123)\n",
        "model=Lowess(tau=min_tau,kernel=tricubic)\n",
        "model.fit(xtrain,ytrain)\n",
        "mse(model.predict(xtest),ytest)"
      ],
      "metadata": {
        "colab": {
          "base_uri": "https://localhost:8080/"
        },
        "id": "K7b2AuYzGKrp",
        "outputId": "f2068b2d-25e5-44d2-9a5d-1b93b10d675d"
      },
      "execution_count": 99,
      "outputs": [
        {
          "output_type": "execute_result",
          "data": {
            "text/plain": [
              "1.6997942085141902"
            ]
          },
          "metadata": {},
          "execution_count": 99
        }
      ]
    },
    {
      "cell_type": "code",
      "source": [
        "lm.fit(xtrain,ytrain)\n",
        "lm.predict(xtest)"
      ],
      "metadata": {
        "colab": {
          "base_uri": "https://localhost:8080/"
        },
        "id": "0gxBttvfXV6E",
        "outputId": "e9018fb3-4bac-4ce1-efc4-ac59036c2006"
      },
      "execution_count": 94,
      "outputs": [
        {
          "output_type": "execute_result",
          "data": {
            "text/plain": [
              "array([22.96278771, 22.8765268 , 20.54809227, 25.79538626, 22.00473509,\n",
              "       27.33034789, 17.06393448])"
            ]
          },
          "metadata": {},
          "execution_count": 94
        }
      ]
    },
    {
      "cell_type": "code",
      "source": [
        "ytest"
      ],
      "metadata": {
        "colab": {
          "base_uri": "https://localhost:8080/"
        },
        "id": "dgoKByklXwPU",
        "outputId": "91503103-2f56-473e-8b0b-604027db08c3"
      },
      "execution_count": 95,
      "outputs": [
        {
          "output_type": "execute_result",
          "data": {
            "text/plain": [
              "array([24.4, 21.4, 18.1, 26. , 22.8, 30.4, 17.3])"
            ]
          },
          "metadata": {},
          "execution_count": 95
        }
      ]
    }
  ]
}